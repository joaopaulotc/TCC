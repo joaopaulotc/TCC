{
 "cells": [
  {
   "cell_type": "code",
   "execution_count": 3,
   "id": "ac5787b0",
   "metadata": {},
   "outputs": [],
   "source": [
    "import pandas as pd"
   ]
  },
  {
   "cell_type": "code",
   "execution_count": 5,
   "id": "dc207dd2",
   "metadata": {},
   "outputs": [
    {
     "data": {
      "text/html": [
       "<div>\n",
       "<style scoped>\n",
       "    .dataframe tbody tr th:only-of-type {\n",
       "        vertical-align: middle;\n",
       "    }\n",
       "\n",
       "    .dataframe tbody tr th {\n",
       "        vertical-align: top;\n",
       "    }\n",
       "\n",
       "    .dataframe thead th {\n",
       "        text-align: right;\n",
       "    }\n",
       "</style>\n",
       "<table border=\"1\" class=\"dataframe\">\n",
       "  <thead>\n",
       "    <tr style=\"text-align: right;\">\n",
       "      <th></th>\n",
       "      <th>Data</th>\n",
       "      <th>Data Cadastro</th>\n",
       "      <th>Sexo</th>\n",
       "      <th>Faixa Etária</th>\n",
       "      <th>RA</th>\n",
       "      <th>UF</th>\n",
       "      <th>Óbito</th>\n",
       "      <th>Data do Óbito</th>\n",
       "      <th>dataPrimeirosintomas</th>\n",
       "      <th>Idade</th>\n",
       "      <th>Pneumopatia</th>\n",
       "      <th>Nefropatia</th>\n",
       "      <th>Doença Hematológica</th>\n",
       "      <th>Distúrbios Metabólicos</th>\n",
       "      <th>Imunopressão</th>\n",
       "      <th>Obesidade</th>\n",
       "      <th>Outros</th>\n",
       "      <th>Cardiovasculopatia</th>\n",
       "    </tr>\n",
       "  </thead>\n",
       "  <tbody>\n",
       "    <tr>\n",
       "      <th>0</th>\n",
       "      <td>19/07/2022</td>\n",
       "      <td>2020-03-18</td>\n",
       "      <td>Masculino</td>\n",
       "      <td>50 a 59 anos</td>\n",
       "      <td>Plano Piloto</td>\n",
       "      <td>DISTRITO FEDERAL</td>\n",
       "      <td>Não</td>\n",
       "      <td>NaN</td>\n",
       "      <td>2020-04-23</td>\n",
       "      <td>55</td>\n",
       "      <td>Não</td>\n",
       "      <td>Não</td>\n",
       "      <td>Não</td>\n",
       "      <td>Não</td>\n",
       "      <td>Não</td>\n",
       "      <td>Não</td>\n",
       "      <td>Não</td>\n",
       "      <td>Não</td>\n",
       "    </tr>\n",
       "    <tr>\n",
       "      <th>1</th>\n",
       "      <td>19/07/2022</td>\n",
       "      <td>2020-03-18</td>\n",
       "      <td>Masculino</td>\n",
       "      <td>50 a 59 anos</td>\n",
       "      <td>Plano Piloto</td>\n",
       "      <td>DISTRITO FEDERAL</td>\n",
       "      <td>Não</td>\n",
       "      <td>NaN</td>\n",
       "      <td>2020-08-03</td>\n",
       "      <td>53</td>\n",
       "      <td>Não</td>\n",
       "      <td>Não</td>\n",
       "      <td>Não</td>\n",
       "      <td>Não</td>\n",
       "      <td>Não</td>\n",
       "      <td>Não</td>\n",
       "      <td>Não</td>\n",
       "      <td>Não</td>\n",
       "    </tr>\n",
       "    <tr>\n",
       "      <th>2</th>\n",
       "      <td>19/07/2022</td>\n",
       "      <td>2020-03-18</td>\n",
       "      <td>Masculino</td>\n",
       "      <td>40 a 49 anos</td>\n",
       "      <td>Lago Sul</td>\n",
       "      <td>DISTRITO FEDERAL</td>\n",
       "      <td>Não</td>\n",
       "      <td>NaN</td>\n",
       "      <td>2020-03-09</td>\n",
       "      <td>48</td>\n",
       "      <td>Não</td>\n",
       "      <td>Não</td>\n",
       "      <td>Não</td>\n",
       "      <td>Não</td>\n",
       "      <td>Não</td>\n",
       "      <td>Não</td>\n",
       "      <td>Não</td>\n",
       "      <td>Não</td>\n",
       "    </tr>\n",
       "    <tr>\n",
       "      <th>3</th>\n",
       "      <td>19/07/2022</td>\n",
       "      <td>2020-03-18</td>\n",
       "      <td>Masculino</td>\n",
       "      <td>&gt;= 60 anos</td>\n",
       "      <td>Águas Claras</td>\n",
       "      <td>DISTRITO FEDERAL</td>\n",
       "      <td>Não</td>\n",
       "      <td>NaN</td>\n",
       "      <td>2020-03-14</td>\n",
       "      <td>64</td>\n",
       "      <td>Não</td>\n",
       "      <td>Não</td>\n",
       "      <td>Não</td>\n",
       "      <td>Sim</td>\n",
       "      <td>Não</td>\n",
       "      <td>Não</td>\n",
       "      <td>Não</td>\n",
       "      <td>Sim</td>\n",
       "    </tr>\n",
       "    <tr>\n",
       "      <th>4</th>\n",
       "      <td>19/07/2022</td>\n",
       "      <td>2020-03-18</td>\n",
       "      <td>Feminino</td>\n",
       "      <td>30 a 39 anos</td>\n",
       "      <td>Plano Piloto</td>\n",
       "      <td>DISTRITO FEDERAL</td>\n",
       "      <td>Não</td>\n",
       "      <td>NaN</td>\n",
       "      <td>2020-03-14</td>\n",
       "      <td>30</td>\n",
       "      <td>Não</td>\n",
       "      <td>Não</td>\n",
       "      <td>Não</td>\n",
       "      <td>Não</td>\n",
       "      <td>Não</td>\n",
       "      <td>Não</td>\n",
       "      <td>Não</td>\n",
       "      <td>Não</td>\n",
       "    </tr>\n",
       "    <tr>\n",
       "      <th>...</th>\n",
       "      <td>...</td>\n",
       "      <td>...</td>\n",
       "      <td>...</td>\n",
       "      <td>...</td>\n",
       "      <td>...</td>\n",
       "      <td>...</td>\n",
       "      <td>...</td>\n",
       "      <td>...</td>\n",
       "      <td>...</td>\n",
       "      <td>...</td>\n",
       "      <td>...</td>\n",
       "      <td>...</td>\n",
       "      <td>...</td>\n",
       "      <td>...</td>\n",
       "      <td>...</td>\n",
       "      <td>...</td>\n",
       "      <td>...</td>\n",
       "      <td>...</td>\n",
       "    </tr>\n",
       "    <tr>\n",
       "      <th>825955</th>\n",
       "      <td>19/07/2022</td>\n",
       "      <td>2022-07-19</td>\n",
       "      <td>Feminino</td>\n",
       "      <td>40 a 49 anos</td>\n",
       "      <td>Outros Estados</td>\n",
       "      <td>GOIÁS</td>\n",
       "      <td>Não</td>\n",
       "      <td>NaN</td>\n",
       "      <td>2022-01-31</td>\n",
       "      <td>41</td>\n",
       "      <td>Não</td>\n",
       "      <td>Não</td>\n",
       "      <td>Não</td>\n",
       "      <td>Não</td>\n",
       "      <td>Não</td>\n",
       "      <td>Não</td>\n",
       "      <td>Não</td>\n",
       "      <td>Não</td>\n",
       "    </tr>\n",
       "    <tr>\n",
       "      <th>825956</th>\n",
       "      <td>19/07/2022</td>\n",
       "      <td>2022-07-19</td>\n",
       "      <td>Feminino</td>\n",
       "      <td>30 a 39 anos</td>\n",
       "      <td>Águas Claras</td>\n",
       "      <td>DISTRITO FEDERAL</td>\n",
       "      <td>Não</td>\n",
       "      <td>NaN</td>\n",
       "      <td>2022-01-12</td>\n",
       "      <td>30</td>\n",
       "      <td>Não</td>\n",
       "      <td>Não</td>\n",
       "      <td>Não</td>\n",
       "      <td>Não</td>\n",
       "      <td>Não</td>\n",
       "      <td>Não</td>\n",
       "      <td>Não</td>\n",
       "      <td>Não</td>\n",
       "    </tr>\n",
       "    <tr>\n",
       "      <th>825957</th>\n",
       "      <td>19/07/2022</td>\n",
       "      <td>2022-07-19</td>\n",
       "      <td>Feminino</td>\n",
       "      <td>40 a 49 anos</td>\n",
       "      <td>Sobradinho</td>\n",
       "      <td>DISTRITO FEDERAL</td>\n",
       "      <td>Não</td>\n",
       "      <td>NaN</td>\n",
       "      <td>2022-02-09</td>\n",
       "      <td>48</td>\n",
       "      <td>Não</td>\n",
       "      <td>Não</td>\n",
       "      <td>Não</td>\n",
       "      <td>Não</td>\n",
       "      <td>Não</td>\n",
       "      <td>Não</td>\n",
       "      <td>Não</td>\n",
       "      <td>Não</td>\n",
       "    </tr>\n",
       "    <tr>\n",
       "      <th>825958</th>\n",
       "      <td>19/07/2022</td>\n",
       "      <td>2022-07-19</td>\n",
       "      <td>Feminino</td>\n",
       "      <td>50 a 59 anos</td>\n",
       "      <td>Cruzeiro</td>\n",
       "      <td>DISTRITO FEDERAL</td>\n",
       "      <td>Não</td>\n",
       "      <td>NaN</td>\n",
       "      <td>2022-02-08</td>\n",
       "      <td>51</td>\n",
       "      <td>Não</td>\n",
       "      <td>Não</td>\n",
       "      <td>Não</td>\n",
       "      <td>Não</td>\n",
       "      <td>Não</td>\n",
       "      <td>Não</td>\n",
       "      <td>Não</td>\n",
       "      <td>Não</td>\n",
       "    </tr>\n",
       "    <tr>\n",
       "      <th>825959</th>\n",
       "      <td>19/07/2022</td>\n",
       "      <td>2022-07-19</td>\n",
       "      <td>Feminino</td>\n",
       "      <td>50 a 59 anos</td>\n",
       "      <td>Brazlândia</td>\n",
       "      <td>DISTRITO FEDERAL</td>\n",
       "      <td>Não</td>\n",
       "      <td>NaN</td>\n",
       "      <td>2022-01-28</td>\n",
       "      <td>51</td>\n",
       "      <td>Não</td>\n",
       "      <td>Não</td>\n",
       "      <td>Não</td>\n",
       "      <td>Não</td>\n",
       "      <td>Não</td>\n",
       "      <td>Não</td>\n",
       "      <td>Não</td>\n",
       "      <td>Não</td>\n",
       "    </tr>\n",
       "  </tbody>\n",
       "</table>\n",
       "<p>825960 rows × 18 columns</p>\n",
       "</div>"
      ],
      "text/plain": [
       "              Data Data Cadastro       Sexo  Faixa Etária              RA  \\\n",
       "0       19/07/2022    2020-03-18  Masculino  50 a 59 anos    Plano Piloto   \n",
       "1       19/07/2022    2020-03-18  Masculino  50 a 59 anos    Plano Piloto   \n",
       "2       19/07/2022    2020-03-18  Masculino  40 a 49 anos        Lago Sul   \n",
       "3       19/07/2022    2020-03-18  Masculino    >= 60 anos    Águas Claras   \n",
       "4       19/07/2022    2020-03-18   Feminino  30 a 39 anos    Plano Piloto   \n",
       "...            ...           ...        ...           ...             ...   \n",
       "825955  19/07/2022    2022-07-19   Feminino  40 a 49 anos  Outros Estados   \n",
       "825956  19/07/2022    2022-07-19   Feminino  30 a 39 anos    Águas Claras   \n",
       "825957  19/07/2022    2022-07-19   Feminino  40 a 49 anos      Sobradinho   \n",
       "825958  19/07/2022    2022-07-19   Feminino  50 a 59 anos        Cruzeiro   \n",
       "825959  19/07/2022    2022-07-19   Feminino  50 a 59 anos      Brazlândia   \n",
       "\n",
       "                      UF Óbito Data do Óbito dataPrimeirosintomas  Idade  \\\n",
       "0       DISTRITO FEDERAL   Não           NaN           2020-04-23     55   \n",
       "1       DISTRITO FEDERAL   Não           NaN           2020-08-03     53   \n",
       "2       DISTRITO FEDERAL   Não           NaN           2020-03-09     48   \n",
       "3       DISTRITO FEDERAL   Não           NaN           2020-03-14     64   \n",
       "4       DISTRITO FEDERAL   Não           NaN           2020-03-14     30   \n",
       "...                  ...   ...           ...                  ...    ...   \n",
       "825955             GOIÁS   Não           NaN           2022-01-31     41   \n",
       "825956  DISTRITO FEDERAL   Não           NaN           2022-01-12     30   \n",
       "825957  DISTRITO FEDERAL   Não           NaN           2022-02-09     48   \n",
       "825958  DISTRITO FEDERAL   Não           NaN           2022-02-08     51   \n",
       "825959  DISTRITO FEDERAL   Não           NaN           2022-01-28     51   \n",
       "\n",
       "       Pneumopatia Nefropatia Doença Hematológica Distúrbios Metabólicos  \\\n",
       "0              Não        Não                 Não                    Não   \n",
       "1              Não        Não                 Não                    Não   \n",
       "2              Não        Não                 Não                    Não   \n",
       "3              Não        Não                 Não                    Sim   \n",
       "4              Não        Não                 Não                    Não   \n",
       "...            ...        ...                 ...                    ...   \n",
       "825955         Não        Não                 Não                    Não   \n",
       "825956         Não        Não                 Não                    Não   \n",
       "825957         Não        Não                 Não                    Não   \n",
       "825958         Não        Não                 Não                    Não   \n",
       "825959         Não        Não                 Não                    Não   \n",
       "\n",
       "       Imunopressão Obesidade Outros Cardiovasculopatia  \n",
       "0               Não       Não    Não                Não  \n",
       "1               Não       Não    Não                Não  \n",
       "2               Não       Não    Não                Não  \n",
       "3               Não       Não    Não                Sim  \n",
       "4               Não       Não    Não                Não  \n",
       "...             ...       ...    ...                ...  \n",
       "825955          Não       Não    Não                Não  \n",
       "825956          Não       Não    Não                Não  \n",
       "825957          Não       Não    Não                Não  \n",
       "825958          Não       Não    Não                Não  \n",
       "825959          Não       Não    Não                Não  \n",
       "\n",
       "[825960 rows x 18 columns]"
      ]
     },
     "execution_count": 5,
     "metadata": {},
     "output_type": "execute_result"
    }
   ],
   "source": [
    "covid_df = pd.read_csv(\"C:\\ABC\\data\\dados_df_imputados_0722.csv\", sep=\",\")\n",
    "covid_df"
   ]
  },
  {
   "cell_type": "code",
   "execution_count": 6,
   "id": "0c183f64",
   "metadata": {},
   "outputs": [],
   "source": [
    "import numpy as np"
   ]
  },
  {
   "cell_type": "code",
   "execution_count": 7,
   "id": "7beae0bf",
   "metadata": {},
   "outputs": [
    {
     "data": {
      "text/plain": [
       "(825960, 18)"
      ]
     },
     "execution_count": 7,
     "metadata": {},
     "output_type": "execute_result"
    }
   ],
   "source": [
    "covid_df.shape"
   ]
  },
  {
   "cell_type": "code",
   "execution_count": 8,
   "id": "0d4da1d9",
   "metadata": {},
   "outputs": [
    {
     "data": {
      "text/plain": [
       "1720"
      ]
     },
     "execution_count": 8,
     "metadata": {},
     "output_type": "execute_result"
    }
   ],
   "source": [
    "np.sum((covid_df[\"Cardiovasculopatia\"] == \"Sim\") & (covid_df[\"Obesidade\"] == \"Sim\"))"
   ]
  },
  {
   "cell_type": "code",
   "execution_count": 9,
   "id": "31d943ce",
   "metadata": {},
   "outputs": [
    {
     "data": {
      "text/plain": [
       "5054"
      ]
     },
     "execution_count": 9,
     "metadata": {},
     "output_type": "execute_result"
    }
   ],
   "source": [
    "np.sum(covid_df[\"Obesidade\"] == \"Sim\")"
   ]
  },
  {
   "cell_type": "markdown",
   "id": "44b91e4f",
   "metadata": {},
   "source": [
    "Probabilidade de Cardiovasculopatia | Obesidade = ?\n",
    "\n",
    "P(C|O) = P (C e O )/P(O)\n",
    "\n",
    "P(C)\n",
    "\n",
    "P(O)\n",
    "\n",
    "P(C|(O e A)) = P (C e O e A )/P(O e A)\n"
   ]
  },
  {
   "cell_type": "code",
   "execution_count": 7,
   "id": "a230ad7b",
   "metadata": {},
   "outputs": [
    {
     "data": {
      "text/plain": [
       "0.3652440462155152"
      ]
     },
     "execution_count": 7,
     "metadata": {},
     "output_type": "execute_result"
    }
   ],
   "source": [
    "1549 / 4241"
   ]
  },
  {
   "cell_type": "code",
   "execution_count": 10,
   "id": "abcdd975",
   "metadata": {},
   "outputs": [],
   "source": [
    "def get_probs(f1, val_f1, f2, val_f2, dataset):\n",
    "    # returns P(f1 | f2)\n",
    "    and_prob = np.sum((covid_df[f1] == val_f1) & (covid_df[f2] == val_f2))\n",
    "    return and_prob/np.sum(covid_df[f2] == val_f2)"
   ]
  },
  {
   "cell_type": "code",
   "execution_count": 11,
   "id": "40fb35cb",
   "metadata": {},
   "outputs": [],
   "source": [
    "def get_probs_3(f1, val_f1, f2, val_f2, f3, val_f3, dataset):\n",
    "    # returns P(f1 | f2 & f3)\n",
    "    and_prob = np.sum((covid_df[f1] == val_f1) & (covid_df[f2] == val_f2) & (covid_df[f3] == val_f3))\n",
    "    return and_prob/np.sum((covid_df[f2] == val_f2) & (covid_df[f3] == val_f3))"
   ]
  },
  {
   "cell_type": "code",
   "execution_count": 44,
   "id": "5bf8d35b",
   "metadata": {},
   "outputs": [
    {
     "data": {
      "text/plain": [
       "664"
      ]
     },
     "execution_count": 44,
     "metadata": {},
     "output_type": "execute_result"
    }
   ],
   "source": [
    "np.sum((covid_df[\"Nefropatia\"] == \"Sim\") & (covid_df[\"Cardiovasculopatia\"] == \"Não\") & (covid_df[\"Pneumopatia\"] == \"Não\") & (covid_df[\"Doença Hematológica\"] == \"Não\") & (covid_df[\"Distúrbios Metabólicos\"] == \"Não\") & (covid_df[\"Imunopressão\"] == \"Não\") & (covid_df[\"Obesidade\"] == \"Não\") & (covid_df[\"Outros\"] == \"Não\"))"
   ]
  },
  {
   "cell_type": "code",
   "execution_count": 26,
   "id": "aed23b7e",
   "metadata": {},
   "outputs": [
    {
     "data": {
      "text/plain": [
       "799569"
      ]
     },
     "execution_count": 26,
     "metadata": {},
     "output_type": "execute_result"
    }
   ],
   "source": [
    "np.sum(covid_df[\"Cardiovasculopatia\"] == \"Não\")"
   ]
  },
  {
   "cell_type": "code",
   "execution_count": 12,
   "id": "671e5b2f",
   "metadata": {},
   "outputs": [
    {
     "data": {
      "text/plain": [
       "0.014297302532810306"
      ]
     },
     "execution_count": 12,
     "metadata": {},
     "output_type": "execute_result"
    }
   ],
   "source": [
    "# Prob óbito\n",
    "np.sum(covid_df[\"Óbito\"] == \"Sim\")/len(covid_df[\"Óbito\"])"
   ]
  },
  {
   "cell_type": "code",
   "execution_count": 13,
   "id": "35d7c607",
   "metadata": {},
   "outputs": [
    {
     "data": {
      "text/plain": [
       "825960"
      ]
     },
     "execution_count": 13,
     "metadata": {},
     "output_type": "execute_result"
    }
   ],
   "source": [
    "len(covid_df[\"Óbito\"])"
   ]
  },
  {
   "cell_type": "code",
   "execution_count": 11,
   "id": "39cddb3d",
   "metadata": {},
   "outputs": [
    {
     "data": {
      "text/plain": [
       "1.8559334423868936"
      ]
     },
     "execution_count": 11,
     "metadata": {},
     "output_type": "execute_result"
    }
   ],
   "source": [
    "# Masculino\n",
    "get_probs(\"Óbito\", \"Sim\", \"Sexo\", \"Masculino\", covid_df) * 100"
   ]
  },
  {
   "cell_type": "code",
   "execution_count": 12,
   "id": "25d7b982",
   "metadata": {},
   "outputs": [
    {
     "data": {
      "text/plain": [
       "1.096349744415219"
      ]
     },
     "execution_count": 12,
     "metadata": {},
     "output_type": "execute_result"
    }
   ],
   "source": [
    "# Feminino\n",
    "get_probs(\"Óbito\", \"Sim\", \"Sexo\", \"Feminino\", covid_df) * 100"
   ]
  },
  {
   "cell_type": "code",
   "execution_count": 13,
   "id": "62589927",
   "metadata": {},
   "outputs": [
    {
     "data": {
      "text/plain": [
       "15.996168582375478"
      ]
     },
     "execution_count": 13,
     "metadata": {},
     "output_type": "execute_result"
    }
   ],
   "source": [
    "# Pneumopatia\n",
    "get_probs(\"Óbito\", \"Sim\", \"Pneumopatia\", \"Sim\", covid_df) * 100"
   ]
  },
  {
   "cell_type": "code",
   "execution_count": 14,
   "id": "3b122c47",
   "metadata": {},
   "outputs": [
    {
     "data": {
      "text/plain": [
       "45.75678040244969"
      ]
     },
     "execution_count": 14,
     "metadata": {},
     "output_type": "execute_result"
    }
   ],
   "source": [
    "# Nefropatia\n",
    "get_probs(\"Óbito\", \"Sim\", \"Nefropatia\", \"Sim\", covid_df) * 100"
   ]
  },
  {
   "cell_type": "code",
   "execution_count": 15,
   "id": "80e98e52",
   "metadata": {},
   "outputs": [
    {
     "data": {
      "text/plain": [
       "13.490725126475548"
      ]
     },
     "execution_count": 15,
     "metadata": {},
     "output_type": "execute_result"
    }
   ],
   "source": [
    "# Doença Hematológica\n",
    "get_probs(\"Óbito\", \"Sim\", \"Doença Hematológica\", \"Sim\", covid_df) * 100"
   ]
  },
  {
   "cell_type": "code",
   "execution_count": 16,
   "id": "9403c6a4",
   "metadata": {},
   "outputs": [
    {
     "data": {
      "text/plain": [
       "26.775192856708983"
      ]
     },
     "execution_count": 16,
     "metadata": {},
     "output_type": "execute_result"
    }
   ],
   "source": [
    "# Distúrbios Metabólicos\n",
    "get_probs(\"Óbito\", \"Sim\", \"Distúrbios Metabólicos\", \"Sim\", covid_df) * 100"
   ]
  },
  {
   "cell_type": "code",
   "execution_count": 17,
   "id": "80ea4a24",
   "metadata": {},
   "outputs": [
    {
     "data": {
      "text/plain": [
       "23.042876901798063"
      ]
     },
     "execution_count": 17,
     "metadata": {},
     "output_type": "execute_result"
    }
   ],
   "source": [
    "# Imunopressão\n",
    "get_probs(\"Óbito\", \"Sim\", \"Imunopressão\", \"Sim\", covid_df) * 100"
   ]
  },
  {
   "cell_type": "code",
   "execution_count": 18,
   "id": "0102a32e",
   "metadata": {},
   "outputs": [
    {
     "data": {
      "text/plain": [
       "35.338345864661655"
      ]
     },
     "execution_count": 18,
     "metadata": {},
     "output_type": "execute_result"
    }
   ],
   "source": [
    "# Obesidade\n",
    "get_probs(\"Óbito\", \"Sim\", \"Obesidade\", \"Sim\", covid_df) * 100"
   ]
  },
  {
   "cell_type": "code",
   "execution_count": 19,
   "id": "0e21b49b",
   "metadata": {},
   "outputs": [
    {
     "data": {
      "text/plain": [
       "31.029126213592235"
      ]
     },
     "execution_count": 19,
     "metadata": {},
     "output_type": "execute_result"
    }
   ],
   "source": [
    "# Outros\n",
    "get_probs(\"Óbito\", \"Sim\", \"Outros\", \"Sim\", covid_df) * 100"
   ]
  },
  {
   "cell_type": "code",
   "execution_count": 20,
   "id": "1797602d",
   "metadata": {},
   "outputs": [
    {
     "data": {
      "text/plain": [
       "27.75946345345004"
      ]
     },
     "execution_count": 20,
     "metadata": {},
     "output_type": "execute_result"
    }
   ],
   "source": [
    "# Cardiovasculopatia\n",
    "get_probs(\"Óbito\", \"Sim\", \"Cardiovasculopatia\", \"Sim\", covid_df) * 100"
   ]
  },
  {
   "cell_type": "code",
   "execution_count": 21,
   "id": "a008ef5b",
   "metadata": {},
   "outputs": [
    {
     "data": {
      "text/plain": [
       "33.52050365832908"
      ]
     },
     "execution_count": 21,
     "metadata": {},
     "output_type": "execute_result"
    }
   ],
   "source": [
    "get_probs_3(\"Óbito\", \"Sim\", \"Sexo\", \"Masculino\", \"Cardiovasculopatia\", \"Sim\", covid_df) * 100"
   ]
  },
  {
   "cell_type": "code",
   "execution_count": 22,
   "id": "a61165e8",
   "metadata": {},
   "outputs": [],
   "source": [
    "sexes = [(\"Sexo\", \"Masculino\"), (\"Sexo\", \"Feminino\")]\n",
    "diseases =  [\n",
    "    (\"Pneumopatia\", \"Sim\"), \n",
    "    (\"Nefropatia\", \"Sim\"), \n",
    "    (\"Doença Hematológica\", \"Sim\"),\n",
    "    (\"Distúrbios Metabólicos\", \"Sim\"),\n",
    "    (\"Imunopressão\", \"Sim\"),\n",
    "    (\"Obesidade\", \"Sim\"),\n",
    "    (\"Outros\", \"Sim\"),\n",
    "    (\"Cardiovasculopatia\", \"Sim\"),\n",
    "]"
   ]
  },
  {
   "cell_type": "code",
   "execution_count": 23,
   "id": "37e700dc",
   "metadata": {},
   "outputs": [
    {
     "name": "stdout",
     "output_type": "stream",
     "text": [
      "Masculino Pneumopatia\n",
      "21.29768699309102\n",
      "Masculino Nefropatia\n",
      "50.6859756097561\n",
      "Masculino Doença Hematológica\n",
      "16.728624535315987\n",
      "Masculino Distúrbios Metabólicos\n",
      "32.791059555807045\n",
      "Masculino Imunopressão\n",
      "29.68036529680365\n",
      "Masculino Obesidade\n",
      "40.83769633507853\n",
      "Masculino Outros\n",
      "39.06458797327394\n",
      "Masculino Cardiovasculopatia\n",
      "33.52050365832908\n",
      "Feminino Pneumopatia\n",
      "12.482580131395581\n",
      "Feminino Nefropatia\n",
      "39.1170431211499\n",
      "Feminino Doença Hematológica\n",
      "10.802469135802468\n",
      "Feminino Distúrbios Metabólicos\n",
      "22.24824355971897\n",
      "Feminino Imunopressão\n",
      "18.155619596541786\n",
      "Feminino Obesidade\n",
      "31.42566881137826\n",
      "Feminino Outros\n",
      "24.819277108433734\n",
      "Feminino Cardiovasculopatia\n",
      "23.13315570130491\n"
     ]
    }
   ],
   "source": [
    "for sex in sexes:\n",
    "    for disease in diseases:\n",
    "        print(sex[1], disease[0])\n",
    "        print(get_probs_3(\"Óbito\", \"Sim\", *sex, *disease, covid_df) * 100)"
   ]
  },
  {
   "cell_type": "code",
   "execution_count": 24,
   "id": "009c1bd8",
   "metadata": {},
   "outputs": [],
   "source": [
    "TOTAL = 825960"
   ]
  },
  {
   "cell_type": "code",
   "execution_count": 25,
   "id": "85aaf0a4",
   "metadata": {},
   "outputs": [
    {
     "data": {
      "text/plain": [
       "RA\n",
       "                            162\n",
       "Arniqueira                 3414\n",
       "Brazlândia                12804\n",
       "Candangolândia             3664\n",
       "Ceilândia                 71558\n",
       "Cruzeiro                  10438\n",
       "Entorno DF                 2795\n",
       "Fercal                     1178\n",
       "Gama                      33893\n",
       "Guará                     43638\n",
       "Itapoã                     5080\n",
       "Jardim Botânico           10468\n",
       "Lago Norte                13843\n",
       "Lago Sul                  15331\n",
       "Não Informado                19\n",
       "Núcleo Bandeirante         6575\n",
       "Outros Estados            89164\n",
       "Paranoá                   12435\n",
       "Park Way                   7777\n",
       "Planaltina                27414\n",
       "Plano Piloto             134837\n",
       "Pôr do Sol                 5276\n",
       "Recanto das Emas          17452\n",
       "Riacho Fundo              10336\n",
       "Riacho Fundo II            7412\n",
       "SCIA                       4108\n",
       "SIA                         206\n",
       "Samambaia                 41658\n",
       "Santa Maria               21368\n",
       "Sistema Penitenciário      2299\n",
       "Sobradinho                35102\n",
       "Sobradinho II              5629\n",
       "Sudoeste/Octogonal        22233\n",
       "São Sebastião             18290\n",
       "Taguatinga                61661\n",
       "Varjão                     1927\n",
       "Vicente Pires             17332\n",
       "Águas Claras              47184\n",
       "dtype: int64"
      ]
     },
     "execution_count": 25,
     "metadata": {},
     "output_type": "execute_result"
    }
   ],
   "source": [
    "covid_df.groupby(\"RA\").size()"
   ]
  },
  {
   "cell_type": "code",
   "execution_count": 26,
   "id": "03b98a36",
   "metadata": {},
   "outputs": [
    {
     "data": {
      "text/plain": [
       "RA\n",
       "Arniqueira                 66\n",
       "Brazlândia                239\n",
       "Candangolândia             73\n",
       "Ceilândia                1615\n",
       "Cruzeiro                  116\n",
       "Entorno DF                 63\n",
       "Fercal                      7\n",
       "Gama                      699\n",
       "Guará                     536\n",
       "Itapoã                     74\n",
       "Jardim Botânico            86\n",
       "Lago Norte                124\n",
       "Lago Sul                  122\n",
       "Núcleo Bandeirante        126\n",
       "Outros Estados            967\n",
       "Paranoá                   221\n",
       "Park Way                   80\n",
       "Planaltina                622\n",
       "Plano Piloto              870\n",
       "Pôr do Sol                157\n",
       "Recanto das Emas          392\n",
       "Riacho Fundo              201\n",
       "Riacho Fundo II           125\n",
       "SCIA                       55\n",
       "Samambaia                 870\n",
       "Santa Maria               484\n",
       "Sistema Penitenciário       7\n",
       "Sobradinho                563\n",
       "Sobradinho II             117\n",
       "Sudoeste/Octogonal        126\n",
       "São Sebastião             238\n",
       "Taguatinga               1128\n",
       "Varjão                     28\n",
       "Vicente Pires             285\n",
       "Águas Claras              327\n",
       "dtype: int64"
      ]
     },
     "execution_count": 26,
     "metadata": {},
     "output_type": "execute_result"
    }
   ],
   "source": [
    "covid_df[covid_df[\"Óbito\"] == \"Sim\"].groupby(\"RA\").size()"
   ]
  },
  {
   "cell_type": "code",
   "execution_count": 27,
   "id": "f23bfa12",
   "metadata": {},
   "outputs": [
    {
     "data": {
      "text/plain": [
       "RA\n",
       "Arniqueira                0.558896\n",
       "Brazlândia                2.023880\n",
       "Candangolândia            0.618173\n",
       "Ceilândia                13.676010\n",
       "Cruzeiro                  0.982302\n",
       "Entorno DF                0.533491\n",
       "Fercal                    0.059277\n",
       "Gama                      5.919214\n",
       "Guará                     4.538911\n",
       "Itapoã                    0.626641\n",
       "Jardim Botânico           0.728258\n",
       "Lago Norte                1.050047\n",
       "Lago Sul                  1.033110\n",
       "Núcleo Bandeirante        1.066983\n",
       "Outros Estados            8.188670\n",
       "Paranoá                   1.871454\n",
       "Park Way                  0.677449\n",
       "Planaltina                5.267169\n",
       "Plano Piloto              7.367262\n",
       "Pôr do Sol                1.329494\n",
       "Recanto das Emas          3.319502\n",
       "Riacho Fundo              1.702092\n",
       "Riacho Fundo II           1.058515\n",
       "SCIA                      0.465746\n",
       "Samambaia                 7.367262\n",
       "Santa Maria               4.098569\n",
       "Sistema Penitenciário     0.059277\n",
       "Sobradinho                4.767550\n",
       "Sobradinho II             0.990770\n",
       "Sudoeste/Octogonal        1.066983\n",
       "São Sebastião             2.015412\n",
       "Taguatinga                9.552037\n",
       "Varjão                    0.237107\n",
       "Vicente Pires             2.413413\n",
       "Águas Claras              2.769074\n",
       "dtype: float64"
      ]
     },
     "execution_count": 27,
     "metadata": {},
     "output_type": "execute_result"
    }
   ],
   "source": [
    "# Probabilidade de ser da RA dado que morreu\n",
    "covid_df[covid_df[\"Óbito\"] == \"Sim\"].groupby(\"RA\").size().divide(np.sum(covid_df[\"Óbito\"] == \"Sim\")).mul(100)"
   ]
  },
  {
   "cell_type": "code",
   "execution_count": 28,
   "id": "15a7b1f5",
   "metadata": {},
   "outputs": [
    {
     "data": {
      "text/plain": [
       "RA\n",
       "                              NaN\n",
       "Arniqueira               1.933216\n",
       "Brazlândia               1.866604\n",
       "Candangolândia           1.992358\n",
       "Ceilândia                2.256910\n",
       "Cruzeiro                 1.111324\n",
       "Entorno DF               2.254025\n",
       "Fercal                   0.594228\n",
       "Gama                     2.062373\n",
       "Guará                    1.228287\n",
       "Itapoã                   1.456693\n",
       "Jardim Botânico          0.821551\n",
       "Lago Norte               0.895760\n",
       "Lago Sul                 0.795773\n",
       "Não Informado                 NaN\n",
       "Núcleo Bandeirante       1.916350\n",
       "Outros Estados           1.084518\n",
       "Paranoá                  1.777242\n",
       "Park Way                 1.028674\n",
       "Planaltina               2.268914\n",
       "Plano Piloto             0.645223\n",
       "Pôr do Sol               2.975739\n",
       "Recanto das Emas         2.246161\n",
       "Riacho Fundo             1.944659\n",
       "Riacho Fundo II          1.686454\n",
       "SCIA                     1.338851\n",
       "SIA                           NaN\n",
       "Samambaia                2.088434\n",
       "Santa Maria              2.265069\n",
       "Sistema Penitenciário    0.304480\n",
       "Sobradinho               1.603897\n",
       "Sobradinho II            2.078522\n",
       "Sudoeste/Octogonal       0.566725\n",
       "São Sebastião            1.301258\n",
       "Taguatinga               1.829357\n",
       "Varjão                   1.453036\n",
       "Vicente Pires            1.644357\n",
       "Águas Claras             0.693032\n",
       "dtype: float64"
      ]
     },
     "execution_count": 28,
     "metadata": {},
     "output_type": "execute_result"
    }
   ],
   "source": [
    "# Probabilidade de morrer dado que é da RA\n",
    "covid_df[covid_df[\"Óbito\"] == \"Sim\"].groupby(\"RA\").size().divide(covid_df.groupby(\"RA\").size()).mul(100)"
   ]
  },
  {
   "cell_type": "code",
   "execution_count": 29,
   "id": "0884eec2",
   "metadata": {},
   "outputs": [
    {
     "data": {
      "text/plain": [
       "2.2569104782134772"
      ]
     },
     "execution_count": 29,
     "metadata": {},
     "output_type": "execute_result"
    }
   ],
   "source": [
    "get_probs(\"Óbito\", \"Sim\", \"RA\", \"Ceilândia\", covid_df) * 100"
   ]
  },
  {
   "cell_type": "code",
   "execution_count": 30,
   "id": "9d5f9f36",
   "metadata": {},
   "outputs": [
    {
     "data": {
      "text/plain": [
       "Faixa Etária\n",
       "20 a 29 anos    0.094476\n",
       "30 a 39 anos    0.235325\n",
       "40 a 49 anos    0.599888\n",
       "50 a 59 anos    1.409586\n",
       "<= 19 anos      0.032909\n",
       ">= 60 anos      7.116416\n",
       "dtype: float64"
      ]
     },
     "execution_count": 30,
     "metadata": {},
     "output_type": "execute_result"
    }
   ],
   "source": [
    "# Probabilidade de morrer dado a idade\n",
    "covid_df[covid_df[\"Óbito\"] == \"Sim\"].groupby(\"Faixa Etária\").size().divide(covid_df.groupby(\"Faixa Etária\").size()).mul(100)"
   ]
  },
  {
   "cell_type": "code",
   "execution_count": 31,
   "id": "1f9be197",
   "metadata": {},
   "outputs": [
    {
     "data": {
      "text/plain": [
       "Faixa Etária\n",
       "20 a 29 anos     1.024642\n",
       "30 a 39 anos     3.827589\n",
       "40 a 49 anos     9.585909\n",
       "50 a 59 anos    14.361927\n",
       "<= 19 anos       0.220171\n",
       ">= 60 anos      70.979761\n",
       "dtype: float64"
      ]
     },
     "execution_count": 31,
     "metadata": {},
     "output_type": "execute_result"
    }
   ],
   "source": [
    "# Probabilidade de ter a faixa etária dado que morreu\n",
    "covid_df[covid_df[\"Óbito\"] == \"Sim\"].groupby(\"Faixa Etária\").size().divide(np.sum(covid_df[\"Óbito\"] == \"Sim\")).mul(100)"
   ]
  },
  {
   "cell_type": "code",
   "execution_count": 32,
   "id": "7889e090",
   "metadata": {},
   "outputs": [],
   "source": [
    "ages = ['<= 19 anos', '20 a 29 anos', '30 a 39 anos', '40 a 49 anos', '50 a 59 anos', '>= 60 anos']\n",
    "mapping = {et: i for i, et in enumerate(ages)}"
   ]
  },
  {
   "cell_type": "code",
   "execution_count": 33,
   "id": "3c0f4644",
   "metadata": {},
   "outputs": [],
   "source": [
    "mulher_df = covid_df[covid_df[\"Sexo\"] == \"Feminino\"]\n",
    "homem_df = covid_df[covid_df[\"Sexo\"] == \"Masculino\"]"
   ]
  },
  {
   "cell_type": "code",
   "execution_count": 34,
   "id": "d2421caa",
   "metadata": {},
   "outputs": [
    {
     "data": {
      "text/plain": [
       "Faixa Etária\n",
       "20 a 29 anos    0.068539\n",
       "30 a 39 anos    0.139530\n",
       "40 a 49 anos    0.395991\n",
       "50 a 59 anos    0.990010\n",
       "<= 19 anos      0.036961\n",
       ">= 60 anos      5.669384\n",
       "dtype: float64"
      ]
     },
     "execution_count": 34,
     "metadata": {},
     "output_type": "execute_result"
    }
   ],
   "source": [
    "# Probabilidade de morrer dado a idade para mulheres\n",
    "mulher_df[mulher_df[\"Óbito\"] == \"Sim\"].groupby(\"Faixa Etária\").size().divide(mulher_df.groupby(\"Faixa Etária\").size()).mul(100)"
   ]
  },
  {
   "cell_type": "code",
   "execution_count": 35,
   "id": "c2f387e0",
   "metadata": {},
   "outputs": [
    {
     "data": {
      "text/plain": [
       "Faixa Etária\n",
       "20 a 29 anos    0.128801\n",
       "30 a 39 anos    0.362772\n",
       "40 a 49 anos    0.864441\n",
       "50 a 59 anos    1.938065\n",
       "<= 19 anos      0.028629\n",
       ">= 60 anos      9.000645\n",
       "dtype: float64"
      ]
     },
     "execution_count": 35,
     "metadata": {},
     "output_type": "execute_result"
    }
   ],
   "source": [
    "# Probabilidade de morrer dado a idade para homens\n",
    "homem_df[homem_df[\"Óbito\"] == \"Sim\"].groupby(\"Faixa Etária\").size().divide(homem_df.groupby(\"Faixa Etária\").size()).mul(100)"
   ]
  },
  {
   "cell_type": "code",
   "execution_count": 36,
   "id": "131dc5ee",
   "metadata": {},
   "outputs": [
    {
     "data": {
      "image/png": "[encoded data removed]",
      "text/plain": [
       "<Figure size 432x288 with 1 Axes>"
      ]
     },
     "metadata": {
      "needs_background": "light"
     },
     "output_type": "display_data"
    }
   ],
   "source": [
    "df = mulher_df[mulher_df[\"Óbito\"] == \"Sim\"].groupby(\"Faixa Etária\").size().divide(mulher_df.groupby(\"Faixa Etária\").size()).mul(100)\n",
    "df['Faixa Etária'] = df.index\n",
    "key = df['Faixa Etária'].map(mapping)\n",
    "ax = df.iloc[key.argsort()].plot(kind=\"bar\")\n",
    "for p in ax.patches:\n",
    "    ax.annotate(\n",
    "        f\"{np.round(p.get_height(),decimals=2)}%\", \n",
    "        (p.get_x()+p.get_width()/2., p.get_height()), \n",
    "        ha='center', \n",
    "        va='center', \n",
    "        xytext=(0, 5), \n",
    "        textcoords='offset points'\n",
    "    )"
   ]
  },
  {
   "cell_type": "code",
   "execution_count": 37,
   "id": "48bb8d57",
   "metadata": {},
   "outputs": [
    {
     "data": {
      "image/png": "[encoded data removed]",
      "text/plain": [
       "<Figure size 432x288 with 1 Axes>"
      ]
     },
     "metadata": {
      "needs_background": "light"
     },
     "output_type": "display_data"
    }
   ],
   "source": [
    "# Probabilidade de morrer dado a idade para homens\n",
    "df = homem_df[homem_df[\"Óbito\"] == \"Sim\"].groupby(\"Faixa Etária\").size().divide(homem_df.groupby(\"Faixa Etária\").size()).mul(100)\n",
    "df['Faixa Etária'] = df.index\n",
    "key = df['Faixa Etária'].map(mapping)\n",
    "ax = df.iloc[key.argsort()].plot(kind=\"bar\")\n",
    "for p in ax.patches:\n",
    "    ax.annotate(\n",
    "        f\"{np.round(p.get_height(),decimals=2)}%\", \n",
    "        (p.get_x()+p.get_width()/2., p.get_height()), \n",
    "        ha='center', \n",
    "        va='center', \n",
    "        xytext=(0, 5), \n",
    "        textcoords='offset points'\n",
    "    )"
   ]
  },
  {
   "cell_type": "code",
   "execution_count": 38,
   "id": "101a0461",
   "metadata": {},
   "outputs": [
    {
     "data": {
      "image/png": "[encoded data removed]",
      "text/plain": [
       "<Figure size 432x288 with 1 Axes>"
      ]
     },
     "metadata": {
      "needs_background": "light"
     },
     "output_type": "display_data"
    }
   ],
   "source": [
    "#Probabilidade de morrer dado idade ambos os generos\n",
    "df = covid_df[covid_df[\"Óbito\"] == \"Sim\"].groupby(\"Faixa Etária\").size().divide(covid_df.groupby(\"Faixa Etária\").size()).mul(100)\n",
    "df['Faixa Etária'] = df.index\n",
    "key = df['Faixa Etária'].map(mapping)\n",
    "ax = df.iloc[key.argsort()].plot(kind=\"bar\")\n",
    "for p in ax.patches:\n",
    "    ax.annotate(\n",
    "        f\"{np.round(p.get_height(),decimals=2)}%\", \n",
    "        (p.get_x()+p.get_width()/2., p.get_height()), \n",
    "        ha='center', \n",
    "        va='center', \n",
    "        xytext=(0, 5), \n",
    "        textcoords='offset points'\n",
    "    )"
   ]
  },
  {
   "cell_type": "code",
   "execution_count": null,
   "id": "87af9ca5",
   "metadata": {},
   "outputs": [],
   "source": []
  }
 ],
 "metadata": {
  "kernelspec": {
   "display_name": "Python 3.10.2 64-bit",
   "language": "python",
   "name": "python3"
  },
  "language_info": {
   "codemirror_mode": {
    "name": "ipython",
    "version": 3
   },
   "file_extension": ".py",
   "mimetype": "text/x-python",
   "name": "python",
   "nbconvert_exporter": "python",
   "pygments_lexer": "ipython3",
   "version": "3.10.2"
  },
  "vscode": {
   "interpreter": {
    "hash": "5441d470055fcaef68aa1769a34be515366c7414d01a9198de6b57eba4234825"
   }
  }
 },
 "nbformat": 4,
 "nbformat_minor": 5
}
